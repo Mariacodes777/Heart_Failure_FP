{
 "cells": [
  {
   "cell_type": "markdown",
   "metadata": {},
   "source": [
    "### Data Exploration & Analysis on Heart Failure Dataset from UCI: https://archive.ics.uci.edu/ml/datasets/Heart+failure+clinical+records#"
   ]
  },
  {
   "cell_type": "markdown",
   "metadata": {},
   "source": [
    "#### Import Data"
   ]
  },
  {
   "cell_type": "code",
   "execution_count": 3,
   "metadata": {},
   "outputs": [],
   "source": [
    "HeartFail = read.csv('C:/Users/Mia/OneDrive/Documents/GitHub/Final_Project/Datasets/heart_failure_clinical_records_dataset.csv')"
   ]
  },
  {
   "cell_type": "code",
   "execution_count": 4,
   "metadata": {},
   "outputs": [
    {
     "data": {
      "text/html": [
       "<table class=\"dataframe\">\n",
       "<caption>A data.frame: 6 × 13</caption>\n",
       "<thead>\n",
       "\t<tr><th></th><th scope=col>age</th><th scope=col>anaemia</th><th scope=col>creatinine_phosphokinase</th><th scope=col>diabetes</th><th scope=col>ejection_fraction</th><th scope=col>high_blood_pressure</th><th scope=col>platelets</th><th scope=col>serum_creatinine</th><th scope=col>serum_sodium</th><th scope=col>sex</th><th scope=col>smoking</th><th scope=col>time</th><th scope=col>DEATH_EVENT</th></tr>\n",
       "\t<tr><th></th><th scope=col>&lt;dbl&gt;</th><th scope=col>&lt;int&gt;</th><th scope=col>&lt;int&gt;</th><th scope=col>&lt;int&gt;</th><th scope=col>&lt;int&gt;</th><th scope=col>&lt;int&gt;</th><th scope=col>&lt;dbl&gt;</th><th scope=col>&lt;dbl&gt;</th><th scope=col>&lt;int&gt;</th><th scope=col>&lt;int&gt;</th><th scope=col>&lt;int&gt;</th><th scope=col>&lt;int&gt;</th><th scope=col>&lt;int&gt;</th></tr>\n",
       "</thead>\n",
       "<tbody>\n",
       "\t<tr><th scope=row>1</th><td>75</td><td>0</td><td> 582</td><td>0</td><td>20</td><td>1</td><td>265000</td><td>1.9</td><td>130</td><td>1</td><td>0</td><td>4</td><td>1</td></tr>\n",
       "\t<tr><th scope=row>2</th><td>55</td><td>0</td><td>7861</td><td>0</td><td>38</td><td>0</td><td>263358</td><td>1.1</td><td>136</td><td>1</td><td>0</td><td>6</td><td>1</td></tr>\n",
       "\t<tr><th scope=row>3</th><td>65</td><td>0</td><td> 146</td><td>0</td><td>20</td><td>0</td><td>162000</td><td>1.3</td><td>129</td><td>1</td><td>1</td><td>7</td><td>1</td></tr>\n",
       "\t<tr><th scope=row>4</th><td>50</td><td>1</td><td> 111</td><td>0</td><td>20</td><td>0</td><td>210000</td><td>1.9</td><td>137</td><td>1</td><td>0</td><td>7</td><td>1</td></tr>\n",
       "\t<tr><th scope=row>5</th><td>65</td><td>1</td><td> 160</td><td>1</td><td>20</td><td>0</td><td>327000</td><td>2.7</td><td>116</td><td>0</td><td>0</td><td>8</td><td>1</td></tr>\n",
       "\t<tr><th scope=row>6</th><td>90</td><td>1</td><td>  47</td><td>0</td><td>40</td><td>1</td><td>204000</td><td>2.1</td><td>132</td><td>1</td><td>1</td><td>8</td><td>1</td></tr>\n",
       "</tbody>\n",
       "</table>\n"
      ],
      "text/latex": [
       "A data.frame: 6 × 13\n",
       "\\begin{tabular}{r|lllllllllllll}\n",
       "  & age & anaemia & creatinine\\_phosphokinase & diabetes & ejection\\_fraction & high\\_blood\\_pressure & platelets & serum\\_creatinine & serum\\_sodium & sex & smoking & time & DEATH\\_EVENT\\\\\n",
       "  & <dbl> & <int> & <int> & <int> & <int> & <int> & <dbl> & <dbl> & <int> & <int> & <int> & <int> & <int>\\\\\n",
       "\\hline\n",
       "\t1 & 75 & 0 &  582 & 0 & 20 & 1 & 265000 & 1.9 & 130 & 1 & 0 & 4 & 1\\\\\n",
       "\t2 & 55 & 0 & 7861 & 0 & 38 & 0 & 263358 & 1.1 & 136 & 1 & 0 & 6 & 1\\\\\n",
       "\t3 & 65 & 0 &  146 & 0 & 20 & 0 & 162000 & 1.3 & 129 & 1 & 1 & 7 & 1\\\\\n",
       "\t4 & 50 & 1 &  111 & 0 & 20 & 0 & 210000 & 1.9 & 137 & 1 & 0 & 7 & 1\\\\\n",
       "\t5 & 65 & 1 &  160 & 1 & 20 & 0 & 327000 & 2.7 & 116 & 0 & 0 & 8 & 1\\\\\n",
       "\t6 & 90 & 1 &   47 & 0 & 40 & 1 & 204000 & 2.1 & 132 & 1 & 1 & 8 & 1\\\\\n",
       "\\end{tabular}\n"
      ],
      "text/markdown": [
       "\n",
       "A data.frame: 6 × 13\n",
       "\n",
       "| <!--/--> | age &lt;dbl&gt; | anaemia &lt;int&gt; | creatinine_phosphokinase &lt;int&gt; | diabetes &lt;int&gt; | ejection_fraction &lt;int&gt; | high_blood_pressure &lt;int&gt; | platelets &lt;dbl&gt; | serum_creatinine &lt;dbl&gt; | serum_sodium &lt;int&gt; | sex &lt;int&gt; | smoking &lt;int&gt; | time &lt;int&gt; | DEATH_EVENT &lt;int&gt; |\n",
       "|---|---|---|---|---|---|---|---|---|---|---|---|---|---|\n",
       "| 1 | 75 | 0 |  582 | 0 | 20 | 1 | 265000 | 1.9 | 130 | 1 | 0 | 4 | 1 |\n",
       "| 2 | 55 | 0 | 7861 | 0 | 38 | 0 | 263358 | 1.1 | 136 | 1 | 0 | 6 | 1 |\n",
       "| 3 | 65 | 0 |  146 | 0 | 20 | 0 | 162000 | 1.3 | 129 | 1 | 1 | 7 | 1 |\n",
       "| 4 | 50 | 1 |  111 | 0 | 20 | 0 | 210000 | 1.9 | 137 | 1 | 0 | 7 | 1 |\n",
       "| 5 | 65 | 1 |  160 | 1 | 20 | 0 | 327000 | 2.7 | 116 | 0 | 0 | 8 | 1 |\n",
       "| 6 | 90 | 1 |   47 | 0 | 40 | 1 | 204000 | 2.1 | 132 | 1 | 1 | 8 | 1 |\n",
       "\n"
      ],
      "text/plain": [
       "  age anaemia creatinine_phosphokinase diabetes ejection_fraction\n",
       "1 75  0        582                     0        20               \n",
       "2 55  0       7861                     0        38               \n",
       "3 65  0        146                     0        20               \n",
       "4 50  1        111                     0        20               \n",
       "5 65  1        160                     1        20               \n",
       "6 90  1         47                     0        40               \n",
       "  high_blood_pressure platelets serum_creatinine serum_sodium sex smoking time\n",
       "1 1                   265000    1.9              130          1   0       4   \n",
       "2 0                   263358    1.1              136          1   0       6   \n",
       "3 0                   162000    1.3              129          1   1       7   \n",
       "4 0                   210000    1.9              137          1   0       7   \n",
       "5 0                   327000    2.7              116          0   0       8   \n",
       "6 1                   204000    2.1              132          1   1       8   \n",
       "  DEATH_EVENT\n",
       "1 1          \n",
       "2 1          \n",
       "3 1          \n",
       "4 1          \n",
       "5 1          \n",
       "6 1          "
      ]
     },
     "metadata": {},
     "output_type": "display_data"
    }
   ],
   "source": [
    "head(HeartFail)"
   ]
  },
  {
   "cell_type": "code",
   "execution_count": 5,
   "metadata": {},
   "outputs": [],
   "source": [
    "library(\"dplyr\")\n",
    "library(\"tidyr\")\n",
    "library(\"IDPmisc\")\n",
    "library(\"ggplot2\")\n",
    "library(\"repr\")\n",
    "library(\"gmodels\")\n",
    "library(\"caret\")\n",
    "library(\"MASS\")"
   ]
  },
  {
   "cell_type": "markdown",
   "metadata": {},
   "source": [
    "### Separating out the continuous variables for stepwise regression"
   ]
  },
  {
   "cell_type": "code",
   "execution_count": 33,
   "metadata": {},
   "outputs": [],
   "source": [
    "keep <- c('age', 'creatinine_phosphokinase', 'ejection_fraction', 'platelets', 'serum_creatinine', 'serum_sodium', 'DEATH_EVENT')\n",
    "IVHeartF <- HeartFail[keep]"
   ]
  },
  {
   "cell_type": "code",
   "execution_count": 34,
   "metadata": {},
   "outputs": [
    {
     "data": {
      "text/html": [
       "<table class=\"dataframe\">\n",
       "<caption>A data.frame: 6 × 7</caption>\n",
       "<thead>\n",
       "\t<tr><th></th><th scope=col>age</th><th scope=col>creatinine_phosphokinase</th><th scope=col>ejection_fraction</th><th scope=col>platelets</th><th scope=col>serum_creatinine</th><th scope=col>serum_sodium</th><th scope=col>DEATH_EVENT</th></tr>\n",
       "\t<tr><th></th><th scope=col>&lt;dbl&gt;</th><th scope=col>&lt;int&gt;</th><th scope=col>&lt;int&gt;</th><th scope=col>&lt;dbl&gt;</th><th scope=col>&lt;dbl&gt;</th><th scope=col>&lt;int&gt;</th><th scope=col>&lt;int&gt;</th></tr>\n",
       "</thead>\n",
       "<tbody>\n",
       "\t<tr><th scope=row>1</th><td>75</td><td> 582</td><td>20</td><td>265000</td><td>1.9</td><td>130</td><td>1</td></tr>\n",
       "\t<tr><th scope=row>2</th><td>55</td><td>7861</td><td>38</td><td>263358</td><td>1.1</td><td>136</td><td>1</td></tr>\n",
       "\t<tr><th scope=row>3</th><td>65</td><td> 146</td><td>20</td><td>162000</td><td>1.3</td><td>129</td><td>1</td></tr>\n",
       "\t<tr><th scope=row>4</th><td>50</td><td> 111</td><td>20</td><td>210000</td><td>1.9</td><td>137</td><td>1</td></tr>\n",
       "\t<tr><th scope=row>5</th><td>65</td><td> 160</td><td>20</td><td>327000</td><td>2.7</td><td>116</td><td>1</td></tr>\n",
       "\t<tr><th scope=row>6</th><td>90</td><td>  47</td><td>40</td><td>204000</td><td>2.1</td><td>132</td><td>1</td></tr>\n",
       "</tbody>\n",
       "</table>\n"
      ],
      "text/latex": [
       "A data.frame: 6 × 7\n",
       "\\begin{tabular}{r|lllllll}\n",
       "  & age & creatinine\\_phosphokinase & ejection\\_fraction & platelets & serum\\_creatinine & serum\\_sodium & DEATH\\_EVENT\\\\\n",
       "  & <dbl> & <int> & <int> & <dbl> & <dbl> & <int> & <int>\\\\\n",
       "\\hline\n",
       "\t1 & 75 &  582 & 20 & 265000 & 1.9 & 130 & 1\\\\\n",
       "\t2 & 55 & 7861 & 38 & 263358 & 1.1 & 136 & 1\\\\\n",
       "\t3 & 65 &  146 & 20 & 162000 & 1.3 & 129 & 1\\\\\n",
       "\t4 & 50 &  111 & 20 & 210000 & 1.9 & 137 & 1\\\\\n",
       "\t5 & 65 &  160 & 20 & 327000 & 2.7 & 116 & 1\\\\\n",
       "\t6 & 90 &   47 & 40 & 204000 & 2.1 & 132 & 1\\\\\n",
       "\\end{tabular}\n"
      ],
      "text/markdown": [
       "\n",
       "A data.frame: 6 × 7\n",
       "\n",
       "| <!--/--> | age &lt;dbl&gt; | creatinine_phosphokinase &lt;int&gt; | ejection_fraction &lt;int&gt; | platelets &lt;dbl&gt; | serum_creatinine &lt;dbl&gt; | serum_sodium &lt;int&gt; | DEATH_EVENT &lt;int&gt; |\n",
       "|---|---|---|---|---|---|---|---|\n",
       "| 1 | 75 |  582 | 20 | 265000 | 1.9 | 130 | 1 |\n",
       "| 2 | 55 | 7861 | 38 | 263358 | 1.1 | 136 | 1 |\n",
       "| 3 | 65 |  146 | 20 | 162000 | 1.3 | 129 | 1 |\n",
       "| 4 | 50 |  111 | 20 | 210000 | 1.9 | 137 | 1 |\n",
       "| 5 | 65 |  160 | 20 | 327000 | 2.7 | 116 | 1 |\n",
       "| 6 | 90 |   47 | 40 | 204000 | 2.1 | 132 | 1 |\n",
       "\n"
      ],
      "text/plain": [
       "  age creatinine_phosphokinase ejection_fraction platelets serum_creatinine\n",
       "1 75   582                     20                265000    1.9             \n",
       "2 55  7861                     38                263358    1.1             \n",
       "3 65   146                     20                162000    1.3             \n",
       "4 50   111                     20                210000    1.9             \n",
       "5 65   160                     20                327000    2.7             \n",
       "6 90    47                     40                204000    2.1             \n",
       "  serum_sodium DEATH_EVENT\n",
       "1 130          1          \n",
       "2 136          1          \n",
       "3 129          1          \n",
       "4 137          1          \n",
       "5 116          1          \n",
       "6 132          1          "
      ]
     },
     "metadata": {},
     "output_type": "display_data"
    }
   ],
   "source": [
    "head(IVHeartF)"
   ]
  },
  {
   "cell_type": "markdown",
   "metadata": {},
   "source": [
    "### Create a Model to Look at All 6 Continuous Independent Variables Influence on Predicting Heart Failure:"
   ]
  },
  {
   "cell_type": "code",
   "execution_count": 35,
   "metadata": {},
   "outputs": [],
   "source": [
    "Model = lm(DEATH_EVENT~., data= IVHeartF)"
   ]
  },
  {
   "cell_type": "code",
   "execution_count": 36,
   "metadata": {},
   "outputs": [
    {
     "data": {
      "text/plain": [
       "\n",
       "Call:\n",
       "lm(formula = DEATH_EVENT ~ ., data = IVHeartF)\n",
       "\n",
       "Residuals:\n",
       "    Min      1Q  Median      3Q     Max \n",
       "-0.9284 -0.3095 -0.1422  0.3919  0.9967 \n",
       "\n",
       "Coefficients:\n",
       "                           Estimate Std. Error t value Pr(>|t|)    \n",
       "(Intercept)               1.416e+00  7.834e-01   1.807   0.0718 .  \n",
       "age                       9.176e-03  2.068e-03   4.438 1.29e-05 ***\n",
       "creatinine_phosphokinase  3.867e-05  2.503e-05   1.545   0.1234    \n",
       "ejection_fraction        -1.022e-02  2.083e-03  -4.908 1.54e-06 ***\n",
       "platelets                -2.068e-08  2.481e-07  -0.083   0.9336    \n",
       "serum_creatinine          1.070e-01  2.404e-02   4.450 1.22e-05 ***\n",
       "serum_sodium             -1.046e-02  5.676e-03  -1.843   0.0663 .  \n",
       "---\n",
       "Signif. codes:  0 '***' 0.001 '**' 0.01 '*' 0.05 '.' 0.1 ' ' 1\n",
       "\n",
       "Residual standard error: 0.4165 on 292 degrees of freedom\n",
       "Multiple R-squared:  0.2229,\tAdjusted R-squared:  0.2069 \n",
       "F-statistic: 13.96 on 6 and 292 DF,  p-value: 5.817e-14\n"
      ]
     },
     "metadata": {},
     "output_type": "display_data"
    }
   ],
   "source": [
    "summary(Model)"
   ]
  },
  {
   "cell_type": "markdown",
   "metadata": {},
   "source": [
    "#### This is confirming the results expressed in the random forest/feature importance as the most influential variables in predicing heart failure are serum creatinine, ejection fraction, and age."
   ]
  },
  {
   "cell_type": "markdown",
   "metadata": {},
   "source": [
    "#### Backward Elimination:"
   ]
  },
  {
   "cell_type": "code",
   "execution_count": 37,
   "metadata": {},
   "outputs": [
    {
     "name": "stdout",
     "output_type": "stream",
     "text": [
      "Start:  AIC=-516.87\n",
      "DEATH_EVENT ~ age + creatinine_phosphokinase + ejection_fraction + \n",
      "    platelets + serum_creatinine + serum_sodium\n",
      "\n",
      "                           Df Sum of Sq    RSS     AIC\n",
      "- platelets                 1    0.0012 50.652 -518.86\n",
      "<none>                                  50.651 -516.87\n",
      "- creatinine_phosphokinase  1    0.4142 51.065 -516.44\n",
      "- serum_sodium              1    0.5894 51.240 -515.41\n",
      "- age                       1    3.4161 54.067 -499.36\n",
      "- serum_creatinine          1    3.4348 54.085 -499.25\n",
      "- ejection_fraction         1    4.1778 54.828 -495.17\n",
      "\n",
      "Step:  AIC=-518.86\n",
      "DEATH_EVENT ~ age + creatinine_phosphokinase + ejection_fraction + \n",
      "    serum_creatinine + serum_sodium\n",
      "\n",
      "                           Df Sum of Sq    RSS     AIC\n",
      "<none>                                  50.652 -518.86\n",
      "- creatinine_phosphokinase  1    0.4135 51.065 -518.43\n",
      "- serum_sodium              1    0.5925 51.244 -517.39\n",
      "- age                       1    3.4303 54.082 -501.27\n",
      "- serum_creatinine          1    3.4398 54.092 -501.22\n",
      "- ejection_fraction         1    4.2063 54.858 -497.01\n"
     ]
    },
    {
     "data": {
      "text/plain": [
       "\n",
       "Call:\n",
       "lm(formula = DEATH_EVENT ~ age + creatinine_phosphokinase + ejection_fraction + \n",
       "    serum_creatinine + serum_sodium, data = IVHeartF)\n",
       "\n",
       "Coefficients:\n",
       "             (Intercept)                       age  creatinine_phosphokinase  \n",
       "               1.413e+00                 9.184e-03                 3.863e-05  \n",
       "       ejection_fraction          serum_creatinine              serum_sodium  \n",
       "              -1.024e-02                 1.070e-01                -1.048e-02  \n"
      ]
     },
     "metadata": {},
     "output_type": "display_data"
    }
   ],
   "source": [
    "step(Model, direction='backward')"
   ]
  },
  {
   "cell_type": "markdown",
   "metadata": {},
   "source": [
    "#### The model dropped platelets"
   ]
  },
  {
   "cell_type": "markdown",
   "metadata": {},
   "source": [
    "#### Final Model:"
   ]
  },
  {
   "cell_type": "code",
   "execution_count": 39,
   "metadata": {},
   "outputs": [
    {
     "data": {
      "text/plain": [
       "\n",
       "Call:\n",
       "lm(formula = DEATH_EVENT ~ age + creatinine_phosphokinase + ejection_fraction + \n",
       "    serum_creatinine + serum_sodium, data = IVHeartF)\n",
       "\n",
       "Coefficients:\n",
       "             (Intercept)                       age  creatinine_phosphokinase  \n",
       "               1.413e+00                 9.184e-03                 3.863e-05  \n",
       "       ejection_fraction          serum_creatinine              serum_sodium  \n",
       "              -1.024e-02                 1.070e-01                -1.048e-02  \n"
      ]
     },
     "metadata": {},
     "output_type": "display_data"
    }
   ],
   "source": [
    "fitsome = lm(DEATH_EVENT~age + creatinine_phosphokinase + ejection_fraction + \n",
    "    serum_creatinine + serum_sodium, data = IVHeartF)\n",
    "fitsome"
   ]
  },
  {
   "cell_type": "markdown",
   "metadata": {},
   "source": [
    "#### Forward Selection"
   ]
  },
  {
   "cell_type": "code",
   "execution_count": 42,
   "metadata": {},
   "outputs": [],
   "source": [
    "Forward = lm(DEATH_EVENT~1, data=IVHeartF)"
   ]
  },
  {
   "cell_type": "code",
   "execution_count": 43,
   "metadata": {},
   "outputs": [
    {
     "data": {
      "text/plain": [
       "\n",
       "Call:\n",
       "lm(formula = DEATH_EVENT ~ 1, data = IVHeartF)\n",
       "\n",
       "Residuals:\n",
       "    Min      1Q  Median      3Q     Max \n",
       "-0.3211 -0.3211 -0.3211  0.6789  0.6789 \n",
       "\n",
       "Coefficients:\n",
       "            Estimate Std. Error t value Pr(>|t|)    \n",
       "(Intercept)  0.32107    0.02705   11.87   <2e-16 ***\n",
       "---\n",
       "Signif. codes:  0 '***' 0.001 '**' 0.01 '*' 0.05 '.' 0.1 ' ' 1\n",
       "\n",
       "Residual standard error: 0.4677 on 298 degrees of freedom\n"
      ]
     },
     "metadata": {},
     "output_type": "display_data"
    }
   ],
   "source": [
    "summary(Forward)"
   ]
  },
  {
   "cell_type": "markdown",
   "metadata": {},
   "source": [
    "#### <font color=blue> I know this shows significant by the ***, but the intercept at .32, Is it accurate to say that means the model is able to predict a death event about 32% of the time in this dataset?"
   ]
  },
  {
   "cell_type": "markdown",
   "metadata": {},
   "source": [
    "#### Forward Selection"
   ]
  },
  {
   "cell_type": "code",
   "execution_count": 44,
   "metadata": {},
   "outputs": [
    {
     "name": "stdout",
     "output_type": "stream",
     "text": [
      "Start:  AIC=-453.48\n",
      "DEATH_EVENT ~ 1\n",
      "\n",
      "                           Df Sum of Sq    RSS     AIC\n",
      "+ serum_creatinine          1    5.6443 59.533 -478.56\n",
      "+ ejection_fraction         1    4.7024 60.475 -473.87\n",
      "+ age                       1    4.1960 60.981 -471.37\n",
      "+ serum_sodium              1    2.4835 62.694 -463.09\n",
      "<none>                                  65.177 -453.48\n",
      "+ creatinine_phosphokinase  1    0.2565 64.921 -452.66\n",
      "+ platelets                 1    0.1574 65.020 -452.20\n",
      "\n",
      "Step:  AIC=-478.56\n",
      "DEATH_EVENT ~ serum_creatinine\n",
      "\n",
      "                           Df Sum of Sq    RSS     AIC\n",
      "+ ejection_fraction         1    4.5872 54.946 -500.54\n",
      "+ age                       1    2.8622 56.671 -491.29\n",
      "+ serum_sodium              1    1.3165 58.216 -483.25\n",
      "<none>                                  59.533 -478.56\n",
      "+ creatinine_phosphokinase  1    0.2975 59.235 -478.06\n",
      "+ platelets                 1    0.0895 59.444 -477.01\n",
      "\n",
      "Step:  AIC=-500.54\n",
      "DEATH_EVENT ~ serum_creatinine + ejection_fraction\n",
      "\n",
      "                           Df Sum of Sq    RSS     AIC\n",
      "+ age                       1    3.3477 51.598 -517.33\n",
      "+ serum_sodium              1    0.6094 54.336 -501.87\n",
      "<none>                                  54.946 -500.54\n",
      "+ creatinine_phosphokinase  1    0.2035 54.742 -499.64\n",
      "+ platelets                 1    0.0212 54.924 -498.65\n",
      "\n",
      "Step:  AIC=-517.33\n",
      "DEATH_EVENT ~ serum_creatinine + ejection_fraction + age\n",
      "\n",
      "                           Df Sum of Sq    RSS     AIC\n",
      "+ serum_sodium              1   0.53262 51.065 -518.43\n",
      "+ creatinine_phosphokinase  1   0.35355 51.244 -517.39\n",
      "<none>                                  51.598 -517.33\n",
      "+ platelets                 1   0.00272 51.595 -515.35\n",
      "\n",
      "Step:  AIC=-518.43\n",
      "DEATH_EVENT ~ serum_creatinine + ejection_fraction + age + serum_sodium\n",
      "\n",
      "                           Df Sum of Sq    RSS     AIC\n",
      "+ creatinine_phosphokinase  1   0.41345 50.652 -518.86\n",
      "<none>                                  51.065 -518.43\n",
      "+ platelets                 1   0.00046 51.065 -516.44\n",
      "\n",
      "Step:  AIC=-518.86\n",
      "DEATH_EVENT ~ serum_creatinine + ejection_fraction + age + serum_sodium + \n",
      "    creatinine_phosphokinase\n",
      "\n",
      "            Df Sum of Sq    RSS     AIC\n",
      "<none>                   50.652 -518.86\n",
      "+ platelets  1 0.0012047 50.651 -516.87\n"
     ]
    },
    {
     "data": {
      "text/plain": [
       "\n",
       "Call:\n",
       "lm(formula = DEATH_EVENT ~ serum_creatinine + ejection_fraction + \n",
       "    age + serum_sodium + creatinine_phosphokinase, data = IVHeartF)\n",
       "\n",
       "Coefficients:\n",
       "             (Intercept)          serum_creatinine         ejection_fraction  \n",
       "               1.413e+00                 1.070e-01                -1.024e-02  \n",
       "                     age              serum_sodium  creatinine_phosphokinase  \n",
       "               9.184e-03                -1.048e-02                 3.863e-05  \n"
      ]
     },
     "metadata": {},
     "output_type": "display_data"
    }
   ],
   "source": [
    "step(Forward, direction = 'forward', scope = (~age + creatinine_phosphokinase + serum_sodium + serum_creatinine + ejection_fraction + platelets))"
   ]
  },
  {
   "cell_type": "markdown",
   "metadata": {},
   "source": [
    "#### Model used all variables except platelets just like backwards elimination"
   ]
  },
  {
   "cell_type": "markdown",
   "metadata": {},
   "source": [
    "#### Final Model"
   ]
  },
  {
   "cell_type": "code",
   "execution_count": 45,
   "metadata": {},
   "outputs": [
    {
     "data": {
      "text/plain": [
       "\n",
       "Call:\n",
       "lm(formula = DEATH_EVENT ~ serum_creatinine + ejection_fraction + \n",
       "    age + serum_sodium + creatinine_phosphokinase, data = IVHeartF)\n",
       "\n",
       "Coefficients:\n",
       "             (Intercept)          serum_creatinine         ejection_fraction  \n",
       "               1.413e+00                 1.070e-01                -1.024e-02  \n",
       "                     age              serum_sodium  creatinine_phosphokinase  \n",
       "               9.184e-03                -1.048e-02                 3.863e-05  \n"
      ]
     },
     "metadata": {},
     "output_type": "display_data"
    }
   ],
   "source": [
    "fitsome2 = lm(DEATH_EVENT~serum_creatinine + ejection_fraction + \n",
    "    age + serum_sodium + creatinine_phosphokinase, data = IVHeartF)\n",
    "fitsome2"
   ]
  },
  {
   "cell_type": "markdown",
   "metadata": {},
   "source": [
    "#### Hybrid Stepwise"
   ]
  },
  {
   "cell_type": "code",
   "execution_count": 48,
   "metadata": {},
   "outputs": [
    {
     "name": "stdout",
     "output_type": "stream",
     "text": [
      "Start:  AIC=-453.48\n",
      "DEATH_EVENT ~ 1\n",
      "\n",
      "                           Df Sum of Sq    RSS     AIC\n",
      "+ serum_creatinine          1    5.6443 59.533 -478.56\n",
      "+ ejection_fraction         1    4.7024 60.475 -473.87\n",
      "+ age                       1    4.1960 60.981 -471.37\n",
      "+ serum_sodium              1    2.4835 62.694 -463.09\n",
      "<none>                                  65.177 -453.48\n",
      "+ creatinine_phosphokinase  1    0.2565 64.921 -452.66\n",
      "+ platelets                 1    0.1574 65.020 -452.20\n",
      "\n",
      "Step:  AIC=-478.56\n",
      "DEATH_EVENT ~ serum_creatinine\n",
      "\n",
      "                           Df Sum of Sq    RSS     AIC\n",
      "+ ejection_fraction         1    4.5872 54.946 -500.54\n",
      "+ age                       1    2.8622 56.671 -491.29\n",
      "+ serum_sodium              1    1.3165 58.216 -483.25\n",
      "<none>                                  59.533 -478.56\n",
      "+ creatinine_phosphokinase  1    0.2975 59.235 -478.06\n",
      "+ platelets                 1    0.0895 59.444 -477.01\n",
      "- serum_creatinine          1    5.6443 65.177 -453.48\n",
      "\n",
      "Step:  AIC=-500.54\n",
      "DEATH_EVENT ~ serum_creatinine + ejection_fraction\n",
      "\n",
      "                           Df Sum of Sq    RSS     AIC\n",
      "+ age                       1    3.3477 51.598 -517.33\n",
      "+ serum_sodium              1    0.6094 54.336 -501.87\n",
      "<none>                                  54.946 -500.54\n",
      "+ creatinine_phosphokinase  1    0.2035 54.742 -499.64\n",
      "+ platelets                 1    0.0212 54.924 -498.65\n",
      "- ejection_fraction         1    4.5872 59.533 -478.56\n",
      "- serum_creatinine          1    5.5292 60.475 -473.87\n",
      "\n",
      "Step:  AIC=-517.33\n",
      "DEATH_EVENT ~ serum_creatinine + ejection_fraction + age\n",
      "\n",
      "                           Df Sum of Sq    RSS     AIC\n",
      "+ serum_sodium              1    0.5326 51.065 -518.43\n",
      "+ creatinine_phosphokinase  1    0.3535 51.244 -517.39\n",
      "<none>                                  51.598 -517.33\n",
      "+ platelets                 1    0.0027 51.595 -515.35\n",
      "- age                       1    3.3477 54.946 -500.54\n",
      "- serum_creatinine          1    4.1128 55.711 -496.40\n",
      "- ejection_fraction         1    5.0728 56.671 -491.29\n",
      "\n",
      "Step:  AIC=-518.43\n",
      "DEATH_EVENT ~ serum_creatinine + ejection_fraction + age + serum_sodium\n",
      "\n",
      "                           Df Sum of Sq    RSS     AIC\n",
      "+ creatinine_phosphokinase  1    0.4135 50.652 -518.86\n",
      "<none>                                  51.065 -518.43\n",
      "- serum_sodium              1    0.5326 51.598 -517.33\n",
      "+ platelets                 1    0.0005 51.065 -516.44\n",
      "- age                       1    3.2709 54.336 -501.87\n",
      "- serum_creatinine          1    3.4581 54.523 -500.84\n",
      "- ejection_fraction         1    4.3514 55.417 -495.98\n",
      "\n",
      "Step:  AIC=-518.86\n",
      "DEATH_EVENT ~ serum_creatinine + ejection_fraction + age + serum_sodium + \n",
      "    creatinine_phosphokinase\n",
      "\n",
      "                           Df Sum of Sq    RSS     AIC\n",
      "<none>                                  50.652 -518.86\n",
      "- creatinine_phosphokinase  1    0.4135 51.065 -518.43\n",
      "- serum_sodium              1    0.5925 51.244 -517.39\n",
      "+ platelets                 1    0.0012 50.651 -516.87\n",
      "- age                       1    3.4303 54.082 -501.27\n",
      "- serum_creatinine          1    3.4398 54.092 -501.22\n",
      "- ejection_fraction         1    4.2063 54.858 -497.01\n"
     ]
    },
    {
     "data": {
      "text/plain": [
       "\n",
       "Call:\n",
       "lm(formula = DEATH_EVENT ~ serum_creatinine + ejection_fraction + \n",
       "    age + serum_sodium + creatinine_phosphokinase, data = IVHeartF)\n",
       "\n",
       "Coefficients:\n",
       "             (Intercept)          serum_creatinine         ejection_fraction  \n",
       "               1.413e+00                 1.070e-01                -1.024e-02  \n",
       "                     age              serum_sodium  creatinine_phosphokinase  \n",
       "               9.184e-03                -1.048e-02                 3.863e-05  \n"
      ]
     },
     "metadata": {},
     "output_type": "display_data"
    }
   ],
   "source": [
    "step(Forward, direction=\"both\", scope=formula(Model))"
   ]
  },
  {
   "cell_type": "markdown",
   "metadata": {},
   "source": [
    "#### The hybrid model also removed platelets like backward and forward selection."
   ]
  },
  {
   "cell_type": "markdown",
   "metadata": {},
   "source": [
    "### The Below Analysis was for initial exploration. I am going to stick to using the above stepwise regression analysis to separate out the continuous variables."
   ]
  },
  {
   "cell_type": "markdown",
   "metadata": {},
   "source": [
    "### Below is Stepwise Regression with all variables"
   ]
  },
  {
   "cell_type": "markdown",
   "metadata": {},
   "source": [
    "### Backward Elimination\n",
    "#### Get a baseline"
   ]
  },
  {
   "cell_type": "code",
   "execution_count": 19,
   "metadata": {},
   "outputs": [],
   "source": [
    "FitAll = lm(DEATH_EVENT ~ ., data = HeartFail)\n"
   ]
  },
  {
   "cell_type": "code",
   "execution_count": 20,
   "metadata": {},
   "outputs": [
    {
     "data": {
      "text/plain": [
       "\n",
       "Call:\n",
       "lm(formula = DEATH_EVENT ~ ., data = HeartFail)\n",
       "\n",
       "Residuals:\n",
       "     Min       1Q   Median       3Q      Max \n",
       "-0.80866 -0.28041 -0.04205  0.24742  0.96983 \n",
       "\n",
       "Coefficients:\n",
       "                           Estimate Std. Error t value Pr(>|t|)    \n",
       "(Intercept)               1.664e+00  6.954e-01   2.392  0.01738 *  \n",
       "age                       5.767e-03  1.867e-03   3.088  0.00221 ** \n",
       "anaemia                  -2.766e-03  4.438e-02  -0.062  0.95035    \n",
       "creatinine_phosphokinase  3.427e-05  2.247e-05   1.525  0.12840    \n",
       "diabetes                  1.928e-02  4.410e-02   0.437  0.66236    \n",
       "ejection_fraction        -9.834e-03  1.844e-03  -5.333 1.96e-07 ***\n",
       "high_blood_pressure      -1.430e-02  4.565e-02  -0.313  0.75438    \n",
       "platelets                -8.370e-08  2.208e-07  -0.379  0.70492    \n",
       "serum_creatinine          8.527e-02  2.123e-02   4.017 7.54e-05 ***\n",
       "serum_sodium             -7.599e-03  5.024e-03  -1.513  0.13149    \n",
       "sex                      -6.369e-02  5.108e-02  -1.247  0.21353    \n",
       "smoking                  -5.733e-03  5.119e-02  -0.112  0.91091    \n",
       "time                     -2.733e-03  2.903e-04  -9.415  < 2e-16 ***\n",
       "---\n",
       "Signif. codes:  0 '***' 0.001 '**' 0.01 '*' 0.05 '.' 0.1 ' ' 1\n",
       "\n",
       "Residual standard error: 0.3646 on 286 degrees of freedom\n",
       "Multiple R-squared:  0.4168,\tAdjusted R-squared:  0.3924 \n",
       "F-statistic: 17.04 on 12 and 286 DF,  p-value: < 2.2e-16\n"
      ]
     },
     "metadata": {},
     "output_type": "display_data"
    }
   ],
   "source": [
    "summary(FitAll)"
   ]
  },
  {
   "cell_type": "markdown",
   "metadata": {},
   "source": [
    "#### The above is showing ejection fraction and serum creatinine, the same two independent variables that were most influential in predicting heart failure with the random forest/feature importance are showing up here as well confirming those results. Now what is interesting is that age is slightly significant and anaemia is also showing a significant result which did not prove to be significant in our other analyis. Time can be ignored as we are looking at biometric prediction features."
   ]
  },
  {
   "cell_type": "code",
   "execution_count": 6,
   "metadata": {},
   "outputs": [
    {
     "name": "stdout",
     "output_type": "stream",
     "text": [
      "Start:  AIC=-590.72\n",
      "DEATH_EVENT ~ age + anaemia + creatinine_phosphokinase + diabetes + \n",
      "    ejection_fraction + high_blood_pressure + platelets + serum_creatinine + \n",
      "    serum_sodium + sex + smoking + time\n",
      "\n",
      "                           Df Sum of Sq    RSS     AIC\n",
      "- anaemia                   1    0.0005 38.010 -592.72\n",
      "- smoking                   1    0.0017 38.011 -592.71\n",
      "- high_blood_pressure       1    0.0130 38.022 -592.62\n",
      "- platelets                 1    0.0191 38.028 -592.57\n",
      "- diabetes                  1    0.0254 38.034 -592.52\n",
      "- sex                       1    0.2066 38.216 -591.10\n",
      "<none>                                  38.009 -590.72\n",
      "- serum_sodium              1    0.3041 38.313 -590.34\n",
      "- creatinine_phosphokinase  1    0.3090 38.318 -590.30\n",
      "- age                       1    1.2676 39.277 -582.91\n",
      "- serum_creatinine          1    2.1446 40.154 -576.31\n",
      "- ejection_fraction         1    3.7801 41.789 -564.37\n",
      "- time                      1   11.7810 49.790 -512.00\n",
      "\n",
      "Step:  AIC=-592.72\n",
      "DEATH_EVENT ~ age + creatinine_phosphokinase + diabetes + ejection_fraction + \n",
      "    high_blood_pressure + platelets + serum_creatinine + serum_sodium + \n",
      "    sex + smoking + time\n",
      "\n",
      "                           Df Sum of Sq    RSS     AIC\n",
      "- smoking                   1    0.0015 38.011 -594.71\n",
      "- high_blood_pressure       1    0.0129 38.022 -594.62\n",
      "- platelets                 1    0.0189 38.028 -594.57\n",
      "- diabetes                  1    0.0255 38.035 -594.52\n",
      "- sex                       1    0.2060 38.216 -593.10\n",
      "<none>                                  38.010 -592.72\n",
      "- serum_sodium              1    0.3075 38.317 -592.31\n",
      "- creatinine_phosphokinase  1    0.3256 38.335 -592.17\n",
      "- age                       1    1.2677 39.277 -584.91\n",
      "- serum_creatinine          1    2.1446 40.154 -578.31\n",
      "- ejection_fraction         1    3.7804 41.790 -566.37\n",
      "- time                      1   11.9876 49.997 -512.75\n",
      "\n",
      "Step:  AIC=-594.71\n",
      "DEATH_EVENT ~ age + creatinine_phosphokinase + diabetes + ejection_fraction + \n",
      "    high_blood_pressure + platelets + serum_creatinine + serum_sodium + \n",
      "    sex + time\n",
      "\n",
      "                           Df Sum of Sq    RSS     AIC\n",
      "- high_blood_pressure       1    0.0127 38.024 -596.61\n",
      "- platelets                 1    0.0202 38.031 -596.55\n",
      "- diabetes                  1    0.0270 38.038 -596.50\n",
      "<none>                                  38.011 -594.71\n",
      "- sex                       1    0.2733 38.284 -594.57\n",
      "- serum_sodium              1    0.3077 38.319 -594.30\n",
      "- creatinine_phosphokinase  1    0.3283 38.339 -594.14\n",
      "- age                       1    1.2696 39.281 -586.88\n",
      "- serum_creatinine          1    2.1513 40.162 -580.25\n",
      "- ejection_fraction         1    3.7793 41.790 -568.37\n",
      "- time                      1   11.9897 50.001 -514.73\n",
      "\n",
      "Step:  AIC=-596.61\n",
      "DEATH_EVENT ~ age + creatinine_phosphokinase + diabetes + ejection_fraction + \n",
      "    platelets + serum_creatinine + serum_sodium + sex + time\n",
      "\n",
      "                           Df Sum of Sq    RSS     AIC\n",
      "- platelets                 1    0.0216 38.045 -598.44\n",
      "- diabetes                  1    0.0277 38.051 -598.39\n",
      "<none>                                  38.024 -596.61\n",
      "- sex                       1    0.2641 38.288 -596.54\n",
      "- serum_sodium              1    0.3143 38.338 -596.15\n",
      "- creatinine_phosphokinase  1    0.3382 38.362 -595.96\n",
      "- age                       1    1.2591 39.283 -588.87\n",
      "- serum_creatinine          1    2.1649 40.189 -582.05\n",
      "- ejection_fraction         1    3.7790 41.803 -570.28\n",
      "- time                      1   12.2858 50.310 -514.89\n",
      "\n",
      "Step:  AIC=-598.44\n",
      "DEATH_EVENT ~ age + creatinine_phosphokinase + diabetes + ejection_fraction + \n",
      "    serum_creatinine + serum_sodium + sex + time\n",
      "\n",
      "                           Df Sum of Sq    RSS     AIC\n",
      "- diabetes                  1    0.0242 38.070 -600.25\n",
      "- sex                       1    0.2516 38.297 -598.47\n",
      "<none>                                  38.045 -598.44\n",
      "- serum_sodium              1    0.3232 38.369 -597.91\n",
      "- creatinine_phosphokinase  1    0.3335 38.379 -597.83\n",
      "- age                       1    1.2718 39.317 -590.61\n",
      "- serum_creatinine          1    2.1755 40.221 -583.81\n",
      "- ejection_fraction         1    3.8181 41.863 -571.84\n",
      "- time                      1   12.2760 50.321 -516.82\n",
      "\n",
      "Step:  AIC=-600.25\n",
      "DEATH_EVENT ~ age + creatinine_phosphokinase + ejection_fraction + \n",
      "    serum_creatinine + serum_sodium + sex + time\n",
      "\n",
      "                           Df Sum of Sq    RSS     AIC\n",
      "<none>                                  38.070 -600.25\n",
      "- sex                       1    0.2830 38.353 -600.03\n",
      "- creatinine_phosphokinase  1    0.3337 38.403 -599.64\n",
      "- serum_sodium              1    0.3460 38.416 -599.54\n",
      "- age                       1    1.2516 39.321 -592.58\n",
      "- serum_creatinine          1    2.1579 40.228 -585.76\n",
      "- ejection_fraction         1    3.8212 41.891 -573.65\n",
      "- time                      1   12.2628 50.332 -518.76\n"
     ]
    },
    {
     "data": {
      "text/plain": [
       "\n",
       "Call:\n",
       "lm(formula = DEATH_EVENT ~ age + creatinine_phosphokinase + ejection_fraction + \n",
       "    serum_creatinine + serum_sodium + sex + time, data = HeartFail)\n",
       "\n",
       "Coefficients:\n",
       "             (Intercept)                       age  creatinine_phosphokinase  \n",
       "               1.703e+00                 5.692e-03                 3.484e-05  \n",
       "       ejection_fraction          serum_creatinine              serum_sodium  \n",
       "              -9.874e-03                 8.526e-02                -8.021e-03  \n",
       "                     sex                      time  \n",
       "              -6.558e-02                -2.710e-03  \n"
      ]
     },
     "metadata": {},
     "output_type": "display_data"
    }
   ],
   "source": [
    "step(FitAll, direction = 'backward')"
   ]
  },
  {
   "cell_type": "markdown",
   "metadata": {},
   "source": [
    "#### Backwards Elimination shows that the most influential variables are sex, creatinine phosphokinase, serum sodium, age, serum creatinine, ejection fraction, and time. It took out diabetes, smoking, high blood presure, platelets, and anaemia. "
   ]
  },
  {
   "cell_type": "markdown",
   "metadata": {},
   "source": [
    "#### Creating a final model"
   ]
  },
  {
   "cell_type": "code",
   "execution_count": 22,
   "metadata": {},
   "outputs": [
    {
     "data": {
      "text/plain": [
       "\n",
       "Call:\n",
       "lm(formula = DEATH_EVENT ~ sex + creatinine_phosphokinase + serum_sodium + \n",
       "    age + serum_creatinine + ejection_fraction + time, data = HeartFail)\n",
       "\n",
       "Coefficients:\n",
       "             (Intercept)                       sex  creatinine_phosphokinase  \n",
       "               1.703e+00                -6.558e-02                 3.484e-05  \n",
       "            serum_sodium                       age          serum_creatinine  \n",
       "              -8.021e-03                 5.692e-03                 8.526e-02  \n",
       "       ejection_fraction                      time  \n",
       "              -9.874e-03                -2.710e-03  \n"
      ]
     },
     "metadata": {},
     "output_type": "display_data"
    }
   ],
   "source": [
    "fitsome = lm(DEATH_EVENT ~ sex + creatinine_phosphokinase + serum_sodium + age + serum_creatinine + ejection_fraction + time, data = HeartFail)\n",
    "fitsome"
   ]
  },
  {
   "cell_type": "markdown",
   "metadata": {},
   "source": [
    "#### Forward Selection"
   ]
  },
  {
   "cell_type": "code",
   "execution_count": 13,
   "metadata": {},
   "outputs": [
    {
     "data": {
      "text/plain": [
       "\n",
       "Call:\n",
       "lm(formula = DEATH_EVENT ~ 1, data = HeartFail)\n",
       "\n",
       "Residuals:\n",
       "    Min      1Q  Median      3Q     Max \n",
       "-0.3211 -0.3211 -0.3211  0.6789  0.6789 \n",
       "\n",
       "Coefficients:\n",
       "            Estimate Std. Error t value Pr(>|t|)    \n",
       "(Intercept)  0.32107    0.02705   11.87   <2e-16 ***\n",
       "---\n",
       "Signif. codes:  0 '***' 0.001 '**' 0.01 '*' 0.05 '.' 0.1 ' ' 1\n",
       "\n",
       "Residual standard error: 0.4677 on 298 degrees of freedom\n"
      ]
     },
     "metadata": {},
     "output_type": "display_data"
    }
   ],
   "source": [
    "fitstart = lm(DEATH_EVENT ~ 1, data = HeartFail)\n",
    "summary(fitstart)"
   ]
  },
  {
   "cell_type": "code",
   "execution_count": 14,
   "metadata": {},
   "outputs": [
    {
     "name": "stdout",
     "output_type": "stream",
     "text": [
      "Start:  AIC=-453.48\n",
      "DEATH_EVENT ~ 1\n",
      "\n",
      "                           Df Sum of Sq    RSS     AIC\n",
      "+ time                      1   18.0991 47.078 -548.74\n",
      "+ serum_creatinine          1    5.6443 59.533 -478.56\n",
      "+ ejection_fraction         1    4.7024 60.475 -473.87\n",
      "+ age                       1    4.1960 60.981 -471.37\n",
      "+ serum_sodium              1    2.4835 62.694 -463.09\n",
      "<none>                                  65.177 -453.48\n",
      "+ high_blood_pressure       1    0.4104 64.767 -453.37\n",
      "+ anaemia                   1    0.2862 64.891 -452.79\n",
      "+ creatinine_phosphokinase  1    0.2565 64.921 -452.66\n",
      "+ platelets                 1    0.1574 65.020 -452.20\n",
      "+ smoking                   1    0.0104 65.167 -451.52\n",
      "+ sex                       1    0.0012 65.176 -451.48\n",
      "+ diabetes                  1    0.0002 65.177 -451.48\n",
      "\n",
      "Step:  AIC=-548.74\n",
      "DEATH_EVENT ~ time\n",
      "\n",
      "                           Df Sum of Sq    RSS     AIC\n",
      "+ ejection_fraction         1    3.9709 43.107 -573.09\n",
      "+ serum_creatinine          1    3.0986 43.980 -567.10\n",
      "+ serum_sodium              1    1.4586 45.620 -556.15\n",
      "+ age                       1    1.2628 45.815 -554.87\n",
      "<none>                                  47.078 -548.74\n",
      "+ creatinine_phosphokinase  1    0.2178 46.860 -548.13\n",
      "+ platelets                 1    0.1239 46.954 -547.53\n",
      "+ smoking                   1    0.0397 47.038 -546.99\n",
      "+ high_blood_pressure       1    0.0396 47.039 -546.99\n",
      "+ diabetes                  1    0.0163 47.062 -546.85\n",
      "+ sex                       1    0.0103 47.068 -546.81\n",
      "+ anaemia                   1    0.0045 47.074 -546.77\n",
      "\n",
      "Step:  AIC=-573.09\n",
      "DEATH_EVENT ~ time + ejection_fraction\n",
      "\n",
      "                           Df Sum of Sq    RSS     AIC\n",
      "+ serum_creatinine          1   3.06274 40.045 -593.13\n",
      "+ age                       1   1.61058 41.497 -582.47\n",
      "+ serum_sodium              1   0.76752 42.340 -576.46\n",
      "<none>                                  43.107 -573.09\n",
      "+ sex                       1   0.16028 42.947 -572.20\n",
      "+ creatinine_phosphokinase  1   0.14433 42.963 -572.09\n",
      "+ smoking                   1   0.11039 42.997 -571.86\n",
      "+ platelets                 1   0.04387 43.063 -571.39\n",
      "+ high_blood_pressure       1   0.01760 43.090 -571.21\n",
      "+ diabetes                  1   0.01331 43.094 -571.18\n",
      "+ anaemia                   1   0.00007 43.107 -571.09\n",
      "\n",
      "Step:  AIC=-593.13\n",
      "DEATH_EVENT ~ time + ejection_fraction + serum_creatinine\n",
      "\n",
      "                           Df Sum of Sq    RSS     AIC\n",
      "+ age                       1   1.09952 38.945 -599.45\n",
      "+ serum_sodium              1   0.32433 39.720 -593.56\n",
      "<none>                                  40.045 -593.13\n",
      "+ creatinine_phosphokinase  1   0.16967 39.875 -592.39\n",
      "+ sex                       1   0.16590 39.879 -592.37\n",
      "+ smoking                   1   0.07678 39.968 -591.70\n",
      "+ diabetes                  1   0.03606 40.008 -591.39\n",
      "+ platelets                 1   0.01957 40.025 -591.27\n",
      "+ high_blood_pressure       1   0.00506 40.039 -591.16\n",
      "+ anaemia                   1   0.00228 40.042 -591.14\n",
      "\n",
      "Step:  AIC=-599.45\n",
      "DEATH_EVENT ~ time + ejection_fraction + serum_creatinine + age\n",
      "\n",
      "                           Df Sum of Sq    RSS     AIC\n",
      "+ serum_sodium              1  0.304537 38.640 -599.80\n",
      "<none>                                  38.945 -599.45\n",
      "+ creatinine_phosphokinase  1  0.248876 38.696 -599.37\n",
      "+ sex                       1  0.237750 38.707 -599.28\n",
      "+ smoking                   1  0.090835 38.854 -598.15\n",
      "+ diabetes                  1  0.082105 38.863 -598.08\n",
      "+ high_blood_pressure       1  0.016486 38.929 -597.58\n",
      "+ anaemia                   1  0.010518 38.934 -597.53\n",
      "+ platelets                 1  0.007309 38.938 -597.51\n",
      "\n",
      "Step:  AIC=-599.8\n",
      "DEATH_EVENT ~ time + ejection_fraction + serum_creatinine + age + \n",
      "    serum_sodium\n",
      "\n",
      "                           Df Sum of Sq    RSS     AIC\n",
      "+ creatinine_phosphokinase  1  0.287768 38.353 -600.03\n",
      "<none>                                  38.640 -599.80\n",
      "+ sex                       1  0.237070 38.403 -599.64\n",
      "+ smoking                   1  0.086391 38.554 -598.47\n",
      "+ diabetes                  1  0.052917 38.588 -598.21\n",
      "+ high_blood_pressure       1  0.010628 38.630 -597.88\n",
      "+ anaemia                   1  0.005076 38.635 -597.84\n",
      "+ platelets                 1  0.003846 38.637 -597.83\n",
      "\n",
      "Step:  AIC=-600.03\n",
      "DEATH_EVENT ~ time + ejection_fraction + serum_creatinine + age + \n",
      "    serum_sodium + creatinine_phosphokinase\n",
      "\n",
      "                      Df Sum of Sq    RSS     AIC\n",
      "+ sex                  1  0.283050 38.070 -600.25\n",
      "<none>                             38.353 -600.03\n",
      "+ smoking              1  0.086299 38.266 -598.71\n",
      "+ diabetes             1  0.055704 38.297 -598.47\n",
      "+ platelets            1  0.005312 38.347 -598.07\n",
      "+ high_blood_pressure  1  0.004151 38.349 -598.06\n",
      "+ anaemia              1  0.001096 38.352 -598.04\n",
      "\n",
      "Step:  AIC=-600.25\n",
      "DEATH_EVENT ~ time + ejection_fraction + serum_creatinine + age + \n",
      "    serum_sodium + creatinine_phosphokinase + sex\n",
      "\n",
      "                      Df Sum of Sq    RSS     AIC\n",
      "<none>                             38.070 -600.25\n",
      "+ diabetes             1 0.0242332 38.045 -598.44\n",
      "+ platelets            1 0.0181575 38.051 -598.39\n",
      "+ high_blood_pressure  1 0.0147076 38.055 -598.36\n",
      "+ smoking              1 0.0041836 38.065 -598.28\n",
      "+ anaemia              1 0.0001406 38.069 -598.25\n"
     ]
    },
    {
     "data": {
      "text/plain": [
       "\n",
       "Call:\n",
       "lm(formula = DEATH_EVENT ~ time + ejection_fraction + serum_creatinine + \n",
       "    age + serum_sodium + creatinine_phosphokinase + sex, data = HeartFail)\n",
       "\n",
       "Coefficients:\n",
       "             (Intercept)                      time         ejection_fraction  \n",
       "               1.703e+00                -2.710e-03                -9.874e-03  \n",
       "        serum_creatinine                       age              serum_sodium  \n",
       "               8.526e-02                 5.692e-03                -8.021e-03  \n",
       "creatinine_phosphokinase                       sex  \n",
       "               3.484e-05                -6.558e-02  \n"
      ]
     },
     "metadata": {},
     "output_type": "display_data"
    }
   ],
   "source": [
    "step(fitstart, direction = 'forward', scope = (formula(FitAll)))"
   ]
  },
  {
   "cell_type": "markdown",
   "metadata": {},
   "source": [
    "#### The results of the forward selection reflect the same results as the backwards elimination as the model removes the less influential variables of diabetes, platelets, high blood pressure, smoking, and anaemia. "
   ]
  },
  {
   "cell_type": "markdown",
   "metadata": {},
   "source": [
    "#### Examining the Final Model"
   ]
  },
  {
   "cell_type": "code",
   "execution_count": 15,
   "metadata": {},
   "outputs": [
    {
     "data": {
      "text/plain": [
       "\n",
       "Call:\n",
       "lm(formula = DEATH_EVENT ~ time + ejection_fraction + serum_creatinine + \n",
       "    age + serum_sodium + creatinine_phosphokinase + sex, data = HeartFail)\n",
       "\n",
       "Coefficients:\n",
       "             (Intercept)                      time         ejection_fraction  \n",
       "               1.703e+00                -2.710e-03                -9.874e-03  \n",
       "        serum_creatinine                       age              serum_sodium  \n",
       "               8.526e-02                 5.692e-03                -8.021e-03  \n",
       "creatinine_phosphokinase                       sex  \n",
       "               3.484e-05                -6.558e-02  \n"
      ]
     },
     "metadata": {},
     "output_type": "display_data"
    }
   ],
   "source": [
    "fitsome2 = lm(DEATH_EVENT ~ time + ejection_fraction + serum_creatinine + \n",
    "    age + serum_sodium + creatinine_phosphokinase + sex, data = HeartFail)\n",
    "fitsome2"
   ]
  },
  {
   "cell_type": "markdown",
   "metadata": {},
   "source": [
    "#### I am not getting the expected output here :/"
   ]
  },
  {
   "cell_type": "markdown",
   "metadata": {},
   "source": [
    "#### Hybrid method"
   ]
  },
  {
   "cell_type": "code",
   "execution_count": 16,
   "metadata": {},
   "outputs": [
    {
     "name": "stdout",
     "output_type": "stream",
     "text": [
      "Start:  AIC=-453.48\n",
      "DEATH_EVENT ~ 1\n",
      "\n",
      "                           Df Sum of Sq    RSS     AIC\n",
      "+ time                      1   18.0991 47.078 -548.74\n",
      "+ serum_creatinine          1    5.6443 59.533 -478.56\n",
      "+ ejection_fraction         1    4.7024 60.475 -473.87\n",
      "+ age                       1    4.1960 60.981 -471.37\n",
      "+ serum_sodium              1    2.4835 62.694 -463.09\n",
      "<none>                                  65.177 -453.48\n",
      "+ high_blood_pressure       1    0.4104 64.767 -453.37\n",
      "+ anaemia                   1    0.2862 64.891 -452.79\n",
      "+ creatinine_phosphokinase  1    0.2565 64.921 -452.66\n",
      "+ platelets                 1    0.1574 65.020 -452.20\n",
      "+ smoking                   1    0.0104 65.167 -451.52\n",
      "+ sex                       1    0.0012 65.176 -451.48\n",
      "+ diabetes                  1    0.0002 65.177 -451.48\n",
      "\n",
      "Step:  AIC=-548.74\n",
      "DEATH_EVENT ~ time\n",
      "\n",
      "                           Df Sum of Sq    RSS     AIC\n",
      "+ ejection_fraction         1    3.9709 43.107 -573.09\n",
      "+ serum_creatinine          1    3.0986 43.980 -567.10\n",
      "+ serum_sodium              1    1.4586 45.620 -556.15\n",
      "+ age                       1    1.2628 45.815 -554.87\n",
      "<none>                                  47.078 -548.74\n",
      "+ creatinine_phosphokinase  1    0.2178 46.860 -548.13\n",
      "+ platelets                 1    0.1239 46.954 -547.53\n",
      "+ smoking                   1    0.0397 47.038 -546.99\n",
      "+ high_blood_pressure       1    0.0396 47.039 -546.99\n",
      "+ diabetes                  1    0.0163 47.062 -546.85\n",
      "+ sex                       1    0.0103 47.068 -546.81\n",
      "+ anaemia                   1    0.0045 47.074 -546.77\n",
      "- time                      1   18.0991 65.177 -453.48\n",
      "\n",
      "Step:  AIC=-573.09\n",
      "DEATH_EVENT ~ time + ejection_fraction\n",
      "\n",
      "                           Df Sum of Sq    RSS     AIC\n",
      "+ serum_creatinine          1    3.0627 40.045 -593.13\n",
      "+ age                       1    1.6106 41.497 -582.47\n",
      "+ serum_sodium              1    0.7675 42.340 -576.46\n",
      "<none>                                  43.107 -573.09\n",
      "+ sex                       1    0.1603 42.947 -572.20\n",
      "+ creatinine_phosphokinase  1    0.1443 42.963 -572.09\n",
      "+ smoking                   1    0.1104 42.997 -571.86\n",
      "+ platelets                 1    0.0439 43.063 -571.39\n",
      "+ high_blood_pressure       1    0.0176 43.090 -571.21\n",
      "+ diabetes                  1    0.0133 43.094 -571.18\n",
      "+ anaemia                   1    0.0001 43.107 -571.09\n",
      "- ejection_fraction         1    3.9709 47.078 -548.74\n",
      "- time                      1   17.3676 60.475 -473.87\n",
      "\n",
      "Step:  AIC=-593.13\n",
      "DEATH_EVENT ~ time + ejection_fraction + serum_creatinine\n",
      "\n",
      "                           Df Sum of Sq    RSS     AIC\n",
      "+ age                       1    1.0995 38.945 -599.45\n",
      "+ serum_sodium              1    0.3243 39.720 -593.56\n",
      "<none>                                  40.045 -593.13\n",
      "+ creatinine_phosphokinase  1    0.1697 39.875 -592.39\n",
      "+ sex                       1    0.1659 39.879 -592.37\n",
      "+ smoking                   1    0.0768 39.968 -591.70\n",
      "+ diabetes                  1    0.0361 40.008 -591.39\n",
      "+ platelets                 1    0.0196 40.025 -591.27\n",
      "+ high_blood_pressure       1    0.0051 40.039 -591.16\n",
      "+ anaemia                   1    0.0023 40.042 -591.14\n",
      "- serum_creatinine          1    3.0627 43.107 -573.09\n",
      "- ejection_fraction         1    3.9351 43.980 -567.10\n",
      "- time                      1   14.9012 54.946 -500.54\n",
      "\n",
      "Step:  AIC=-599.45\n",
      "DEATH_EVENT ~ time + ejection_fraction + serum_creatinine + age\n",
      "\n",
      "                           Df Sum of Sq    RSS     AIC\n",
      "+ serum_sodium              1    0.3045 38.640 -599.80\n",
      "<none>                                  38.945 -599.45\n",
      "+ creatinine_phosphokinase  1    0.2489 38.696 -599.37\n",
      "+ sex                       1    0.2378 38.707 -599.28\n",
      "+ smoking                   1    0.0908 38.854 -598.15\n",
      "+ diabetes                  1    0.0821 38.863 -598.08\n",
      "+ high_blood_pressure       1    0.0165 38.929 -597.58\n",
      "+ anaemia                   1    0.0105 38.934 -597.53\n",
      "+ platelets                 1    0.0073 38.938 -597.51\n",
      "- age                       1    1.0995 40.045 -593.13\n",
      "- serum_creatinine          1    2.5517 41.497 -582.47\n",
      "- ejection_fraction         1    4.2214 43.166 -570.68\n",
      "- time                      1   12.6530 51.598 -517.33\n",
      "\n",
      "Step:  AIC=-599.8\n",
      "DEATH_EVENT ~ time + ejection_fraction + serum_creatinine + age + \n",
      "    serum_sodium\n",
      "\n",
      "                           Df Sum of Sq    RSS     AIC\n",
      "+ creatinine_phosphokinase  1    0.2878 38.353 -600.03\n",
      "<none>                                  38.640 -599.80\n",
      "+ sex                       1    0.2371 38.403 -599.64\n",
      "- serum_sodium              1    0.3045 38.945 -599.45\n",
      "+ smoking                   1    0.0864 38.554 -598.47\n",
      "+ diabetes                  1    0.0529 38.588 -598.21\n",
      "+ high_blood_pressure       1    0.0106 38.630 -597.88\n",
      "+ anaemia                   1    0.0051 38.635 -597.84\n",
      "+ platelets                 1    0.0038 38.637 -597.83\n",
      "- age                       1    1.0797 39.720 -593.56\n",
      "- serum_creatinine          1    2.1743 40.815 -585.43\n",
      "- ejection_fraction         1    3.7082 42.349 -574.40\n",
      "- time                      1   12.4249 51.065 -518.43\n",
      "\n",
      "Step:  AIC=-600.03\n",
      "DEATH_EVENT ~ time + ejection_fraction + serum_creatinine + age + \n",
      "    serum_sodium + creatinine_phosphokinase\n",
      "\n",
      "                           Df Sum of Sq    RSS     AIC\n",
      "+ sex                       1    0.2830 38.070 -600.25\n",
      "<none>                                  38.353 -600.03\n",
      "- creatinine_phosphokinase  1    0.2878 38.640 -599.80\n",
      "- serum_sodium              1    0.3434 38.696 -599.37\n",
      "+ smoking                   1    0.0863 38.266 -598.71\n",
      "+ diabetes                  1    0.0557 38.297 -598.47\n",
      "+ platelets                 1    0.0053 38.347 -598.07\n",
      "+ high_blood_pressure       1    0.0042 38.349 -598.06\n",
      "+ anaemia                   1    0.0011 38.352 -598.04\n",
      "- age                       1    1.1640 39.517 -593.09\n",
      "- serum_creatinine          1    2.1674 40.520 -585.60\n",
      "- ejection_fraction         1    3.5988 41.952 -575.21\n",
      "- time                      1   12.2992 50.652 -518.86\n",
      "\n",
      "Step:  AIC=-600.25\n",
      "DEATH_EVENT ~ time + ejection_fraction + serum_creatinine + age + \n",
      "    serum_sodium + creatinine_phosphokinase + sex\n",
      "\n",
      "                           Df Sum of Sq    RSS     AIC\n",
      "<none>                                  38.070 -600.25\n",
      "- sex                       1    0.2830 38.353 -600.03\n",
      "- creatinine_phosphokinase  1    0.3337 38.403 -599.64\n",
      "- serum_sodium              1    0.3460 38.416 -599.54\n",
      "+ diabetes                  1    0.0242 38.045 -598.44\n",
      "+ platelets                 1    0.0182 38.051 -598.39\n",
      "+ high_blood_pressure       1    0.0147 38.055 -598.36\n",
      "+ smoking                   1    0.0042 38.065 -598.28\n",
      "+ anaemia                   1    0.0001 38.069 -598.25\n",
      "- age                       1    1.2516 39.321 -592.58\n",
      "- serum_creatinine          1    2.1579 40.228 -585.76\n",
      "- ejection_fraction         1    3.8212 41.891 -573.65\n",
      "- time                      1   12.2628 50.332 -518.76\n"
     ]
    },
    {
     "data": {
      "text/plain": [
       "\n",
       "Call:\n",
       "lm(formula = DEATH_EVENT ~ time + ejection_fraction + serum_creatinine + \n",
       "    age + serum_sodium + creatinine_phosphokinase + sex, data = HeartFail)\n",
       "\n",
       "Coefficients:\n",
       "             (Intercept)                      time         ejection_fraction  \n",
       "               1.703e+00                -2.710e-03                -9.874e-03  \n",
       "        serum_creatinine                       age              serum_sodium  \n",
       "               8.526e-02                 5.692e-03                -8.021e-03  \n",
       "creatinine_phosphokinase                       sex  \n",
       "               3.484e-05                -6.558e-02  \n"
      ]
     },
     "metadata": {},
     "output_type": "display_data"
    }
   ],
   "source": [
    "step(fitstart, direction=\"both\", scope=formula(FitAll))"
   ]
  },
  {
   "cell_type": "markdown",
   "metadata": {},
   "source": [
    "#### This model also removes the same variables as the backward and foward methods. Therefore for the stepwise regression approach, the most influential variables in predicting heart failure are showing to be age, ejection fraction, serum creatinine, serum sodium, creatinine phosphokinase, and gender."
   ]
  },
  {
   "cell_type": "markdown",
   "metadata": {},
   "source": [
    "### The Following is Independent Chi Square for the Categorical Variables:"
   ]
  },
  {
   "cell_type": "code",
   "execution_count": 6,
   "metadata": {},
   "outputs": [
    {
     "data": {
      "text/html": [
       "<table class=\"dataframe\">\n",
       "<caption>A data.frame: 6 × 13</caption>\n",
       "<thead>\n",
       "\t<tr><th></th><th scope=col>age</th><th scope=col>anaemia</th><th scope=col>creatinine_phosphokinase</th><th scope=col>diabetes</th><th scope=col>ejection_fraction</th><th scope=col>high_blood_pressure</th><th scope=col>platelets</th><th scope=col>serum_creatinine</th><th scope=col>serum_sodium</th><th scope=col>sex</th><th scope=col>smoking</th><th scope=col>time</th><th scope=col>DEATH_EVENT</th></tr>\n",
       "\t<tr><th></th><th scope=col>&lt;dbl&gt;</th><th scope=col>&lt;int&gt;</th><th scope=col>&lt;int&gt;</th><th scope=col>&lt;int&gt;</th><th scope=col>&lt;int&gt;</th><th scope=col>&lt;int&gt;</th><th scope=col>&lt;dbl&gt;</th><th scope=col>&lt;dbl&gt;</th><th scope=col>&lt;int&gt;</th><th scope=col>&lt;int&gt;</th><th scope=col>&lt;int&gt;</th><th scope=col>&lt;int&gt;</th><th scope=col>&lt;int&gt;</th></tr>\n",
       "</thead>\n",
       "<tbody>\n",
       "\t<tr><th scope=row>1</th><td>75</td><td>0</td><td> 582</td><td>0</td><td>20</td><td>1</td><td>265000</td><td>1.9</td><td>130</td><td>1</td><td>0</td><td>4</td><td>1</td></tr>\n",
       "\t<tr><th scope=row>2</th><td>55</td><td>0</td><td>7861</td><td>0</td><td>38</td><td>0</td><td>263358</td><td>1.1</td><td>136</td><td>1</td><td>0</td><td>6</td><td>1</td></tr>\n",
       "\t<tr><th scope=row>3</th><td>65</td><td>0</td><td> 146</td><td>0</td><td>20</td><td>0</td><td>162000</td><td>1.3</td><td>129</td><td>1</td><td>1</td><td>7</td><td>1</td></tr>\n",
       "\t<tr><th scope=row>4</th><td>50</td><td>1</td><td> 111</td><td>0</td><td>20</td><td>0</td><td>210000</td><td>1.9</td><td>137</td><td>1</td><td>0</td><td>7</td><td>1</td></tr>\n",
       "\t<tr><th scope=row>5</th><td>65</td><td>1</td><td> 160</td><td>1</td><td>20</td><td>0</td><td>327000</td><td>2.7</td><td>116</td><td>0</td><td>0</td><td>8</td><td>1</td></tr>\n",
       "\t<tr><th scope=row>6</th><td>90</td><td>1</td><td>  47</td><td>0</td><td>40</td><td>1</td><td>204000</td><td>2.1</td><td>132</td><td>1</td><td>1</td><td>8</td><td>1</td></tr>\n",
       "</tbody>\n",
       "</table>\n"
      ],
      "text/latex": [
       "A data.frame: 6 × 13\n",
       "\\begin{tabular}{r|lllllllllllll}\n",
       "  & age & anaemia & creatinine\\_phosphokinase & diabetes & ejection\\_fraction & high\\_blood\\_pressure & platelets & serum\\_creatinine & serum\\_sodium & sex & smoking & time & DEATH\\_EVENT\\\\\n",
       "  & <dbl> & <int> & <int> & <int> & <int> & <int> & <dbl> & <dbl> & <int> & <int> & <int> & <int> & <int>\\\\\n",
       "\\hline\n",
       "\t1 & 75 & 0 &  582 & 0 & 20 & 1 & 265000 & 1.9 & 130 & 1 & 0 & 4 & 1\\\\\n",
       "\t2 & 55 & 0 & 7861 & 0 & 38 & 0 & 263358 & 1.1 & 136 & 1 & 0 & 6 & 1\\\\\n",
       "\t3 & 65 & 0 &  146 & 0 & 20 & 0 & 162000 & 1.3 & 129 & 1 & 1 & 7 & 1\\\\\n",
       "\t4 & 50 & 1 &  111 & 0 & 20 & 0 & 210000 & 1.9 & 137 & 1 & 0 & 7 & 1\\\\\n",
       "\t5 & 65 & 1 &  160 & 1 & 20 & 0 & 327000 & 2.7 & 116 & 0 & 0 & 8 & 1\\\\\n",
       "\t6 & 90 & 1 &   47 & 0 & 40 & 1 & 204000 & 2.1 & 132 & 1 & 1 & 8 & 1\\\\\n",
       "\\end{tabular}\n"
      ],
      "text/markdown": [
       "\n",
       "A data.frame: 6 × 13\n",
       "\n",
       "| <!--/--> | age &lt;dbl&gt; | anaemia &lt;int&gt; | creatinine_phosphokinase &lt;int&gt; | diabetes &lt;int&gt; | ejection_fraction &lt;int&gt; | high_blood_pressure &lt;int&gt; | platelets &lt;dbl&gt; | serum_creatinine &lt;dbl&gt; | serum_sodium &lt;int&gt; | sex &lt;int&gt; | smoking &lt;int&gt; | time &lt;int&gt; | DEATH_EVENT &lt;int&gt; |\n",
       "|---|---|---|---|---|---|---|---|---|---|---|---|---|---|\n",
       "| 1 | 75 | 0 |  582 | 0 | 20 | 1 | 265000 | 1.9 | 130 | 1 | 0 | 4 | 1 |\n",
       "| 2 | 55 | 0 | 7861 | 0 | 38 | 0 | 263358 | 1.1 | 136 | 1 | 0 | 6 | 1 |\n",
       "| 3 | 65 | 0 |  146 | 0 | 20 | 0 | 162000 | 1.3 | 129 | 1 | 1 | 7 | 1 |\n",
       "| 4 | 50 | 1 |  111 | 0 | 20 | 0 | 210000 | 1.9 | 137 | 1 | 0 | 7 | 1 |\n",
       "| 5 | 65 | 1 |  160 | 1 | 20 | 0 | 327000 | 2.7 | 116 | 0 | 0 | 8 | 1 |\n",
       "| 6 | 90 | 1 |   47 | 0 | 40 | 1 | 204000 | 2.1 | 132 | 1 | 1 | 8 | 1 |\n",
       "\n"
      ],
      "text/plain": [
       "  age anaemia creatinine_phosphokinase diabetes ejection_fraction\n",
       "1 75  0        582                     0        20               \n",
       "2 55  0       7861                     0        38               \n",
       "3 65  0        146                     0        20               \n",
       "4 50  1        111                     0        20               \n",
       "5 65  1        160                     1        20               \n",
       "6 90  1         47                     0        40               \n",
       "  high_blood_pressure platelets serum_creatinine serum_sodium sex smoking time\n",
       "1 1                   265000    1.9              130          1   0       4   \n",
       "2 0                   263358    1.1              136          1   0       6   \n",
       "3 0                   162000    1.3              129          1   1       7   \n",
       "4 0                   210000    1.9              137          1   0       7   \n",
       "5 0                   327000    2.7              116          0   0       8   \n",
       "6 1                   204000    2.1              132          1   1       8   \n",
       "  DEATH_EVENT\n",
       "1 1          \n",
       "2 1          \n",
       "3 1          \n",
       "4 1          \n",
       "5 1          \n",
       "6 1          "
      ]
     },
     "metadata": {},
     "output_type": "display_data"
    }
   ],
   "source": [
    "head(HeartFail)"
   ]
  },
  {
   "cell_type": "markdown",
   "metadata": {},
   "source": [
    "#### Independent Chi Square: Anaemia:"
   ]
  },
  {
   "cell_type": "code",
   "execution_count": 7,
   "metadata": {},
   "outputs": [
    {
     "name": "stdout",
     "output_type": "stream",
     "text": [
      "\n",
      "   Cell Contents\n",
      "|-------------------------|\n",
      "|                   Count |\n",
      "|         Expected Values |\n",
      "| Chi-square contribution |\n",
      "|             Row Percent |\n",
      "|          Column Percent |\n",
      "|           Total Percent |\n",
      "|            Std Residual |\n",
      "|-------------------------|\n",
      "\n",
      "Total Observations in Table:  299 \n",
      "\n",
      "                  | HeartFail$DEATH_EVENT \n",
      "HeartFail$anaemia |        0  |        1  | Row Total | \n",
      "------------------|-----------|-----------|-----------|\n",
      "                0 |      120  |       50  |      170  | \n",
      "                  |  115.418  |   54.582  |           | \n",
      "                  |    0.182  |    0.385  |           | \n",
      "                  |   70.588% |   29.412% |   56.856% | \n",
      "                  |   59.113% |   52.083% |           | \n",
      "                  |   40.134% |   16.722% |           | \n",
      "                  |    0.426  |   -0.620  |           | \n",
      "------------------|-----------|-----------|-----------|\n",
      "                1 |       83  |       46  |      129  | \n",
      "                  |   87.582  |   41.418  |           | \n",
      "                  |    0.240  |    0.507  |           | \n",
      "                  |   64.341% |   35.659% |   43.144% | \n",
      "                  |   40.887% |   47.917% |           | \n",
      "                  |   27.759% |   15.385% |           | \n",
      "                  |   -0.490  |    0.712  |           | \n",
      "------------------|-----------|-----------|-----------|\n",
      "     Column Total |      203  |       96  |      299  | \n",
      "                  |   67.893% |   32.107% |           | \n",
      "------------------|-----------|-----------|-----------|\n",
      "\n",
      " \n",
      "Statistics for All Table Factors\n",
      "\n",
      "\n",
      "Pearson's Chi-squared test \n",
      "------------------------------------------------------------\n",
      "Chi^2 =  1.313126     d.f. =  1     p =  0.2518294 \n",
      "\n",
      "Pearson's Chi-squared test with Yates' continuity correction \n",
      "------------------------------------------------------------\n",
      "Chi^2 =  1.042175     d.f. =  1     p =  0.3073161 \n",
      "\n",
      " \n",
      "Fisher's Exact Test for Count Data\n",
      "------------------------------------------------------------\n",
      "Sample estimate odds ratio:  1.328819 \n",
      "\n",
      "Alternative hypothesis: true odds ratio is not equal to 1\n",
      "p =  0.2627743 \n",
      "95% confidence interval:  0.7914894 2.231057 \n",
      "\n",
      "Alternative hypothesis: true odds ratio is less than 1\n",
      "p =  0.8979702 \n",
      "95% confidence interval:  0 2.062479 \n",
      "\n",
      "Alternative hypothesis: true odds ratio is greater than 1\n",
      "p =  0.1536726 \n",
      "95% confidence interval:  0.8561884 Inf \n",
      "\n",
      "\n",
      " \n",
      "       Minimum expected frequency: 41.41806 \n",
      "\n"
     ]
    }
   ],
   "source": [
    "CrossTable(HeartFail$anaemia, HeartFail$DEATH_EVENT, fisher=TRUE, chisq = TRUE, expected = TRUE, sresid=TRUE, format=\"SPSS\")"
   ]
  },
  {
   "cell_type": "markdown",
   "metadata": {},
   "source": [
    "#### The p value is 0.2518294 so this shows that anaemia is not significant in predicing heart failure for this dataset."
   ]
  },
  {
   "cell_type": "markdown",
   "metadata": {},
   "source": [
    "#### Independent Chi Square: Diabetes"
   ]
  },
  {
   "cell_type": "code",
   "execution_count": 9,
   "metadata": {},
   "outputs": [
    {
     "name": "stdout",
     "output_type": "stream",
     "text": [
      "\n",
      "   Cell Contents\n",
      "|-------------------------|\n",
      "|                   Count |\n",
      "|         Expected Values |\n",
      "| Chi-square contribution |\n",
      "|             Row Percent |\n",
      "|          Column Percent |\n",
      "|           Total Percent |\n",
      "|            Std Residual |\n",
      "|-------------------------|\n",
      "\n",
      "Total Observations in Table:  299 \n",
      "\n",
      "                   | HeartFail$DEATH_EVENT \n",
      "HeartFail$diabetes |        0  |        1  | Row Total | \n",
      "-------------------|-----------|-----------|-----------|\n",
      "                 0 |      118  |       56  |      174  | \n",
      "                   |  118.134  |   55.866  |           | \n",
      "                   |    0.000  |    0.000  |           | \n",
      "                   |   67.816% |   32.184% |   58.194% | \n",
      "                   |   58.128% |   58.333% |           | \n",
      "                   |   39.465% |   18.729% |           | \n",
      "                   |   -0.012  |    0.018  |           | \n",
      "-------------------|-----------|-----------|-----------|\n",
      "                 1 |       85  |       40  |      125  | \n",
      "                   |   84.866  |   40.134  |           | \n",
      "                   |    0.000  |    0.000  |           | \n",
      "                   |   68.000% |   32.000% |   41.806% | \n",
      "                   |   41.872% |   41.667% |           | \n",
      "                   |   28.428% |   13.378% |           | \n",
      "                   |    0.015  |   -0.021  |           | \n",
      "-------------------|-----------|-----------|-----------|\n",
      "      Column Total |      203  |       96  |      299  | \n",
      "                   |   67.893% |   32.107% |           | \n",
      "-------------------|-----------|-----------|-----------|\n",
      "\n",
      " \n",
      "Statistics for All Table Factors\n",
      "\n",
      "\n",
      "Pearson's Chi-squared test \n",
      "------------------------------------------------------------\n",
      "Chi^2 =  0.001128664     d.f. =  1     p =  0.9731996 \n",
      "\n",
      "Pearson's Chi-squared test with Yates' continuity correction \n",
      "------------------------------------------------------------\n",
      "Chi^2 =  2.161684e-30     d.f. =  1     p =  1 \n",
      "\n",
      " \n",
      "Fisher's Exact Test for Count Data\n",
      "------------------------------------------------------------\n",
      "Sample estimate odds ratio:  0.991624 \n",
      "\n",
      "Alternative hypothesis: true odds ratio is not equal to 1\n",
      "p =  1 \n",
      "95% confidence interval:  0.5866943 1.668217 \n",
      "\n",
      "Alternative hypothesis: true odds ratio is less than 1\n",
      "p =  0.5375936 \n",
      "95% confidence interval:  0 1.54252 \n",
      "\n",
      "Alternative hypothesis: true odds ratio is greater than 1\n",
      "p =  0.5622492 \n",
      "95% confidence interval:  0.6355717 Inf \n",
      "\n",
      "\n",
      " \n",
      "       Minimum expected frequency: 40.13378 \n",
      "\n"
     ]
    }
   ],
   "source": [
    "CrossTable(HeartFail$diabetes, HeartFail$DEATH_EVENT, fisher=TRUE, chisq = TRUE, expected = TRUE, sresid=TRUE, format=\"SPSS\")"
   ]
  },
  {
   "cell_type": "markdown",
   "metadata": {},
   "source": [
    "#### The p value is 0.9731996 which is greater than 0.05, therefore diabetes is not showing a significant influence on heart failure in this dataset"
   ]
  },
  {
   "cell_type": "markdown",
   "metadata": {},
   "source": [
    "#### Independent Chi Square: High Blood Pressure:"
   ]
  },
  {
   "cell_type": "code",
   "execution_count": 10,
   "metadata": {},
   "outputs": [
    {
     "name": "stdout",
     "output_type": "stream",
     "text": [
      "\n",
      "   Cell Contents\n",
      "|-------------------------|\n",
      "|                   Count |\n",
      "|         Expected Values |\n",
      "| Chi-square contribution |\n",
      "|             Row Percent |\n",
      "|          Column Percent |\n",
      "|           Total Percent |\n",
      "|            Std Residual |\n",
      "|-------------------------|\n",
      "\n",
      "Total Observations in Table:  299 \n",
      "\n",
      "                              | HeartFail$DEATH_EVENT \n",
      "HeartFail$high_blood_pressure |        0  |        1  | Row Total | \n",
      "------------------------------|-----------|-----------|-----------|\n",
      "                            0 |      137  |       57  |      194  | \n",
      "                              |  131.712  |   62.288  |           | \n",
      "                              |    0.212  |    0.449  |           | \n",
      "                              |   70.619% |   29.381% |   64.883% | \n",
      "                              |   67.488% |   59.375% |           | \n",
      "                              |   45.819% |   19.064% |           | \n",
      "                              |    0.461  |   -0.670  |           | \n",
      "------------------------------|-----------|-----------|-----------|\n",
      "                            1 |       66  |       39  |      105  | \n",
      "                              |   71.288  |   33.712  |           | \n",
      "                              |    0.392  |    0.829  |           | \n",
      "                              |   62.857% |   37.143% |   35.117% | \n",
      "                              |   32.512% |   40.625% |           | \n",
      "                              |   22.074% |   13.043% |           | \n",
      "                              |   -0.626  |    0.911  |           | \n",
      "------------------------------|-----------|-----------|-----------|\n",
      "                 Column Total |      203  |       96  |      299  | \n",
      "                              |   67.893% |   32.107% |           | \n",
      "------------------------------|-----------|-----------|-----------|\n",
      "\n",
      " \n",
      "Statistics for All Table Factors\n",
      "\n",
      "\n",
      "Pearson's Chi-squared test \n",
      "------------------------------------------------------------\n",
      "Chi^2 =  1.882681     d.f. =  1     p =  0.1700298 \n",
      "\n",
      "Pearson's Chi-squared test with Yates' continuity correction \n",
      "------------------------------------------------------------\n",
      "Chi^2 =  1.543461     d.f. =  1     p =  0.2141034 \n",
      "\n",
      " \n",
      "Fisher's Exact Test for Count Data\n",
      "------------------------------------------------------------\n",
      "Sample estimate odds ratio:  1.418502 \n",
      "\n",
      "Alternative hypothesis: true odds ratio is not equal to 1\n",
      "p =  0.194805 \n",
      "95% confidence interval:  0.8306656 2.41455 \n",
      "\n",
      "Alternative hypothesis: true odds ratio is less than 1\n",
      "p =  0.9328277 \n",
      "95% confidence interval:  0 2.228449 \n",
      "\n",
      "Alternative hypothesis: true odds ratio is greater than 1\n",
      "p =  0.1074346 \n",
      "95% confidence interval:  0.9011159 Inf \n",
      "\n",
      "\n",
      " \n",
      "       Minimum expected frequency: 33.71237 \n",
      "\n"
     ]
    }
   ],
   "source": [
    "CrossTable(HeartFail$high_blood_pressure, HeartFail$DEATH_EVENT, fisher=TRUE, chisq = TRUE, expected = TRUE, sresid=TRUE, format=\"SPSS\")"
   ]
  },
  {
   "cell_type": "markdown",
   "metadata": {},
   "source": [
    "#### The p value is 0.1700298 which is greater than 0.05, therefore high blood pressure is not a significant factor on heart failure in this dataset."
   ]
  },
  {
   "cell_type": "markdown",
   "metadata": {},
   "source": [
    "#### Independent Chi Square: Gender"
   ]
  },
  {
   "cell_type": "code",
   "execution_count": 11,
   "metadata": {},
   "outputs": [
    {
     "name": "stdout",
     "output_type": "stream",
     "text": [
      "\n",
      "   Cell Contents\n",
      "|-------------------------|\n",
      "|                   Count |\n",
      "|         Expected Values |\n",
      "| Chi-square contribution |\n",
      "|             Row Percent |\n",
      "|          Column Percent |\n",
      "|           Total Percent |\n",
      "|            Std Residual |\n",
      "|-------------------------|\n",
      "\n",
      "Total Observations in Table:  299 \n",
      "\n",
      "              | HeartFail$DEATH_EVENT \n",
      "HeartFail$sex |        0  |        1  | Row Total | \n",
      "--------------|-----------|-----------|-----------|\n",
      "            0 |       71  |       34  |      105  | \n",
      "              |   71.288  |   33.712  |           | \n",
      "              |    0.001  |    0.002  |           | \n",
      "              |   67.619% |   32.381% |   35.117% | \n",
      "              |   34.975% |   35.417% |           | \n",
      "              |   23.746% |   11.371% |           | \n",
      "              |   -0.034  |    0.050  |           | \n",
      "--------------|-----------|-----------|-----------|\n",
      "            1 |      132  |       62  |      194  | \n",
      "              |  131.712  |   62.288  |           | \n",
      "              |    0.001  |    0.001  |           | \n",
      "              |   68.041% |   31.959% |   64.883% | \n",
      "              |   65.025% |   64.583% |           | \n",
      "              |   44.147% |   20.736% |           | \n",
      "              |    0.025  |   -0.036  |           | \n",
      "--------------|-----------|-----------|-----------|\n",
      " Column Total |      203  |       96  |      299  | \n",
      "              |   67.893% |   32.107% |           | \n",
      "--------------|-----------|-----------|-----------|\n",
      "\n",
      " \n",
      "Statistics for All Table Factors\n",
      "\n",
      "\n",
      "Pearson's Chi-squared test \n",
      "------------------------------------------------------------\n",
      "Chi^2 =  0.0055707     d.f. =  1     p =  0.9405034 \n",
      "\n",
      "Pearson's Chi-squared test with Yates' continuity correction \n",
      "------------------------------------------------------------\n",
      "Chi^2 =  0     d.f. =  1     p =  1 \n",
      "\n",
      " \n",
      "Fisher's Exact Test for Count Data\n",
      "------------------------------------------------------------\n",
      "Sample estimate odds ratio:  0.980893 \n",
      "\n",
      "Alternative hypothesis: true odds ratio is not equal to 1\n",
      "p =  1 \n",
      "95% confidence interval:  0.5738077 1.690824 \n",
      "\n",
      "Alternative hypothesis: true odds ratio is less than 1\n",
      "p =  0.5201191 \n",
      "95% confidence interval:  0 1.55583 \n",
      "\n",
      "Alternative hypothesis: true odds ratio is greater than 1\n",
      "p =  0.5826652 \n",
      "95% confidence interval:  0.6218154 Inf \n",
      "\n",
      "\n",
      " \n",
      "       Minimum expected frequency: 33.71237 \n",
      "\n"
     ]
    }
   ],
   "source": [
    "CrossTable(HeartFail$sex, HeartFail$DEATH_EVENT, fisher=TRUE, chisq = TRUE, expected = TRUE, sresid=TRUE, format=\"SPSS\")"
   ]
  },
  {
   "cell_type": "markdown",
   "metadata": {},
   "source": [
    "#### The p value is 0.9405034  which is greater than 0.05, therefore gender is not a significant factor in predicting heart failure for this dataset."
   ]
  },
  {
   "cell_type": "markdown",
   "metadata": {},
   "source": [
    "#### Independent Chi Square: Smoking"
   ]
  },
  {
   "cell_type": "code",
   "execution_count": 12,
   "metadata": {},
   "outputs": [
    {
     "name": "stdout",
     "output_type": "stream",
     "text": [
      "\n",
      "   Cell Contents\n",
      "|-------------------------|\n",
      "|                   Count |\n",
      "|         Expected Values |\n",
      "| Chi-square contribution |\n",
      "|             Row Percent |\n",
      "|          Column Percent |\n",
      "|           Total Percent |\n",
      "|            Std Residual |\n",
      "|-------------------------|\n",
      "\n",
      "Total Observations in Table:  299 \n",
      "\n",
      "                  | HeartFail$DEATH_EVENT \n",
      "HeartFail$smoking |        0  |        1  | Row Total | \n",
      "------------------|-----------|-----------|-----------|\n",
      "                0 |      137  |       66  |      203  | \n",
      "                  |  137.823  |   65.177  |           | \n",
      "                  |    0.005  |    0.010  |           | \n",
      "                  |   67.488% |   32.512% |   67.893% | \n",
      "                  |   67.488% |   68.750% |           | \n",
      "                  |   45.819% |   22.074% |           | \n",
      "                  |   -0.070  |    0.102  |           | \n",
      "------------------|-----------|-----------|-----------|\n",
      "                1 |       66  |       30  |       96  | \n",
      "                  |   65.177  |   30.823  |           | \n",
      "                  |    0.010  |    0.022  |           | \n",
      "                  |   68.750% |   31.250% |   32.107% | \n",
      "                  |   32.512% |   31.250% |           | \n",
      "                  |   22.074% |   10.033% |           | \n",
      "                  |    0.102  |   -0.148  |           | \n",
      "------------------|-----------|-----------|-----------|\n",
      "     Column Total |      203  |       96  |      299  | \n",
      "                  |   67.893% |   32.107% |           | \n",
      "------------------|-----------|-----------|-----------|\n",
      "\n",
      " \n",
      "Statistics for All Table Factors\n",
      "\n",
      "\n",
      "Pearson's Chi-squared test \n",
      "------------------------------------------------------------\n",
      "Chi^2 =  0.04764385     d.f. =  1     p =  0.8272151 \n",
      "\n",
      "Pearson's Chi-squared test with Yates' continuity correction \n",
      "------------------------------------------------------------\n",
      "Chi^2 =  0.007331474     d.f. =  1     p =  0.9317653 \n",
      "\n",
      " \n",
      "Fisher's Exact Test for Count Data\n",
      "------------------------------------------------------------\n",
      "Sample estimate odds ratio:  0.9436941 \n",
      "\n",
      "Alternative hypothesis: true odds ratio is not equal to 1\n",
      "p =  0.8947374 \n",
      "95% confidence interval:  0.5378288 1.635888 \n",
      "\n",
      "Alternative hypothesis: true odds ratio is less than 1\n",
      "p =  0.4681563 \n",
      "95% confidence interval:  0 1.507081 \n",
      "\n",
      "Alternative hypothesis: true odds ratio is greater than 1\n",
      "p =  0.6352215 \n",
      "95% confidence interval:  0.5862583 Inf \n",
      "\n",
      "\n",
      " \n",
      "       Minimum expected frequency: 30.82274 \n",
      "\n"
     ]
    }
   ],
   "source": [
    "CrossTable(HeartFail$smoking, HeartFail$DEATH_EVENT, fisher=TRUE, chisq = TRUE, expected = TRUE, sresid=TRUE, format=\"SPSS\")"
   ]
  },
  {
   "cell_type": "markdown",
   "metadata": {},
   "source": [
    "#### The p value is 0.8272151 which is greater than 0.05, therefore smoking is not a signficant predictor in heart failure from this dataset. Yet there is plenty of scientific research that shows smoking is not beneficial but actually harmful to a person's health."
   ]
  },
  {
   "cell_type": "markdown",
   "metadata": {},
   "source": [
    "#### The results of all the categorical independent variables are not significant which is very exciting because this is confirming the results of the feature importance from our random forest. "
   ]
  },
  {
   "cell_type": "markdown",
   "metadata": {},
   "source": [
    "#### Correlation Matrix"
   ]
  },
  {
   "cell_type": "code",
   "execution_count": 13,
   "metadata": {},
   "outputs": [
    {
     "name": "stderr",
     "output_type": "stream",
     "text": [
      "Installing package into 'C:/Users/Mia/OneDrive/Documents/R/win-library/4.1'\n",
      "(as 'lib' is unspecified)\n",
      "\n"
     ]
    },
    {
     "name": "stdout",
     "output_type": "stream",
     "text": [
      "package 'ggcorrplot' successfully unpacked and MD5 sums checked\n",
      "\n",
      "The downloaded binary packages are in\n",
      "\tC:\\Users\\Mia\\AppData\\Local\\Temp\\RtmpCeXnCg\\downloaded_packages\n"
     ]
    }
   ],
   "source": [
    "install.packages(\"ggcorrplot\")"
   ]
  },
  {
   "cell_type": "code",
   "execution_count": 14,
   "metadata": {},
   "outputs": [],
   "source": [
    "library(\"ggcorrplot\")"
   ]
  },
  {
   "cell_type": "code",
   "execution_count": 15,
   "metadata": {},
   "outputs": [],
   "source": [
    "####Code source for correlation matrix:http://www.sthda.com/english/wiki/ggcorrplot-visualization-of-a-correlation-matrix-using-ggplot2"
   ]
  },
  {
   "cell_type": "code",
   "execution_count": 16,
   "metadata": {},
   "outputs": [
    {
     "name": "stderr",
     "output_type": "stream",
     "text": [
      "Warning message in data(HeartFail):\n",
      "\"data set 'HeartFail' not found\"\n"
     ]
    },
    {
     "data": {
      "image/png": "[encoded data removed]",
      "text/plain": [
       "plot without title"
      ]
     },
     "metadata": {
      "image/png": {
       "height": 420,
       "width": 420
      }
     },
     "output_type": "display_data"
    }
   ],
   "source": [
    "data(HeartFail)\n",
    "corr <- round(cor(HeartFail), 1)\n",
    "\n",
    "ggcorrplot(corr)"
   ]
  },
  {
   "cell_type": "markdown",
   "metadata": {},
   "source": [
    "#### Above is a correlation matrix of the dataset and it shows that the smoking, sex, and diabetes all show a white square in relationship with a death event indicating a nonsignificant factor. As well as the light shade of pale pink for anaemia and high blood pressure. This is just another way to look at the data which also confirms visually the independent chi square analysis on each of the categorical independent variables to have a nonsignificant influence in predicting heart failure."
   ]
  },
  {
   "cell_type": "code",
   "execution_count": null,
   "metadata": {},
   "outputs": [],
   "source": []
  }
 ],
 "metadata": {
  "kernelspec": {
   "display_name": "R",
   "language": "R",
   "name": "ir"
  },
  "language_info": {
   "codemirror_mode": "r",
   "file_extension": ".r",
   "mimetype": "text/x-r-source",
   "name": "R",
   "pygments_lexer": "r",
   "version": "4.1.1"
  }
 },
 "nbformat": 4,
 "nbformat_minor": 4
}
